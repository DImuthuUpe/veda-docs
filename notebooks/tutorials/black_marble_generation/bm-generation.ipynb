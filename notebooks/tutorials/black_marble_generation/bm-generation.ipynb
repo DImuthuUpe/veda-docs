{
 "cells": [
  {
   "cell_type": "raw",
   "id": "ba3098e5-07c0-4feb-99ba-d7cdcfabbf65",
   "metadata": {
    "tags": []
   },
   "source": [
    "---\n",
    "title: Generate NASA Black Marble Data Products\n",
    "description: This notebook deomostrates how to use Landast, Open Street Map and Night Time Data Products to generate NASA Black Marble data products on demand for given temporal and spacial parameters\n",
    "author: Dimuthu Wannipurage\n",
    "date: March 2, 2024\n",
    "execute:\n",
    "  freeze: true\n",
    "---"
   ]
  },
  {
   "cell_type": "markdown",
   "id": "a079c06d-988f-41a7-81ab-94cd957f5497",
   "metadata": {},
   "source": [
    "## NOTE\n",
    "\n",
    "#### This notebook requires more than 12 GB RAM to run as it deals with lots of image processing on the memory. If you are running on a smaller ram that that, please go back to Hub Control Panel and start a new session with a larger RAM configuration"
   ]
  },
  {
   "cell_type": "markdown",
   "id": "4ee1c132-0b32-407a-a87b-e911062b0885",
   "metadata": {},
   "source": [
    "## Install required dependencies"
   ]
  },
  {
   "cell_type": "code",
   "execution_count": null,
   "id": "58404ecb-f705-44d8-a2c0-ddd386192af0",
   "metadata": {
    "tags": []
   },
   "outputs": [],
   "source": [
    "! pip3 install utm\n",
    "! pip3 install scikit-image\n",
    "! pip3 install geopy\n",
    "! pip3 install shapely\n",
    "! pip3 install boto3\n",
    "! pip3 install rasterio\n",
    "! pip3 install fiona\n",
    "! pip3 install osmnx\n",
    "! pip3 install geopy"
   ]
  },
  {
   "cell_type": "markdown",
   "id": "d9bd68dc-2aaf-4615-9636-64a087cc286f",
   "metadata": {
    "tags": []
   },
   "source": [
    "## Import relevant libraries"
   ]
  },
  {
   "cell_type": "code",
   "execution_count": 29,
   "id": "7f57c37c-7920-4414-a844-ac34b3157f2e",
   "metadata": {
    "tags": []
   },
   "outputs": [],
   "source": [
    "try:\n",
    "    import gdal\n",
    "except ImportError:\n",
    "    from osgeo import gdal\n",
    "    \n",
    "import numpy as np\n",
    "import os\n",
    "import getpass\n",
    "import matplotlib.pyplot as plt\n",
    "from rasterio.io import MemoryFile\n",
    "from rio_cogeo.profiles import cog_profiles\n",
    "from rio_cogeo.cogeo import cog_translate\n",
    "import boto3\n",
    "import rasterio\n",
    "from pathlib import Path\n",
    "\n",
    "from bm_scripts import LandsatUtils\n",
    "from bm_scripts import GISUtils\n",
    "from bm_scripts import VNP46A2Utils\n",
    "from bm_scripts import OSMUtils\n"
   ]
  },
  {
   "cell_type": "markdown",
   "id": "e14ebf78-89b5-4004-a40d-7c846f6187d6",
   "metadata": {},
   "source": [
    "### Loading AWS Credentials\n",
    "\n",
    "This notebook requires AWS credentials of a user to download the Landast dataset which is required to generate the Black Marble data product. Following cell shows how to derrive those credentials from the AWS Role which was injected into VEDA Hub's notebook session. However, if you are running the notebook outside of the VEDA HUB, make sure to manually update respective access credetials of following cell"
   ]
  },
  {
   "cell_type": "code",
   "execution_count": 3,
   "id": "b9e1282a-e3f8-4fe7-aeaa-33165778e7b6",
   "metadata": {
    "tags": []
   },
   "outputs": [],
   "source": [
    "aws_region = os.environ['AWS_REGION']\n",
    "aws_role_arn = os.environ['AWS_ROLE_ARN']\n",
    "aws_sts_regional_endpoints = os.environ['AWS_STS_REGIONAL_ENDPOINTS']\n",
    "with open(os.environ['AWS_WEB_IDENTITY_TOKEN_FILE']) as f:\n",
    "    aws_id_token = f.read()\n",
    "\n",
    "role = boto3.client('sts').assume_role_with_web_identity(RoleArn=aws_role_arn, \n",
    "                                                         RoleSessionName='assume-role', \n",
    "                                                         WebIdentityToken=aws_id_token)\n",
    "credentials = role['Credentials']\n",
    "aws_access_key = credentials['AccessKeyId']\n",
    "aws_secret_key = credentials['SecretAccessKey']\n",
    "aws_session_token = credentials['SessionToken']"
   ]
  },
  {
   "cell_type": "markdown",
   "id": "e637f233-9ba1-494e-963d-497eebe69e65",
   "metadata": {},
   "source": [
    "### Enter Earth Data Token\n",
    "\n",
    "Earth data token is requred to download night time data prodcuts from NASA's darth data catalog. To create or fetch an existing token, go to https://urs.earthdata.nasa.gov/. If you do not have an account, you might have to create one first"
   ]
  },
  {
   "cell_type": "code",
   "execution_count": 4,
   "id": "fc38755e-e56e-4cd4-81bc-a45e2c1b39a7",
   "metadata": {
    "tags": []
   },
   "outputs": [
    {
     "name": "stdout",
     "output_type": "stream",
     "text": [
      "Earch data token\n"
     ]
    },
    {
     "name": "stdin",
     "output_type": "stream",
     "text": [
      " ········\n"
     ]
    }
   ],
   "source": [
    "print(\"Earch data token\")\n",
    "earth_data_token = getpass.getpass()"
   ]
  },
  {
   "cell_type": "markdown",
   "id": "360e9dca-0c31-4e2e-b4e8-904ff5545515",
   "metadata": {},
   "source": [
    "## Input Parameters to generate Black Marble data products\n",
    "\n",
    "Algorithm requires the diagonal coordinates of the bounding box in WGS84 format. As the temporal parameters, year, month and day is required"
   ]
  },
  {
   "cell_type": "code",
   "execution_count": 5,
   "id": "e34ede45-7df2-41a0-a63d-ae11b26d2057",
   "metadata": {
    "tags": []
   },
   "outputs": [],
   "source": [
    "lat1,long1,lat2,long2 =  33.034682, 21.279194, 32.465949, 22.919832\n",
    "year = 2023\n",
    "month = 1\n",
    "day = 24"
   ]
  },
  {
   "cell_type": "markdown",
   "id": "b50e57cb-1e40-425b-82d5-bc5dd525de84",
   "metadata": {},
   "source": [
    "Create the directory strcuture to download input data and store intermediate and final outputs"
   ]
  },
  {
   "cell_type": "code",
   "execution_count": 30,
   "id": "f066afda-c0ca-4b43-88c6-0aee01d08bf5",
   "metadata": {
    "tags": []
   },
   "outputs": [],
   "source": [
    "Path(\"outputs\").mkdir(parents=True, exist_ok=True)\n",
    "Path(\"outputs/temp\").mkdir(parents=True, exist_ok=True)\n",
    "Path(\"outputs/final\").mkdir(parents=True, exist_ok=True)"
   ]
  },
  {
   "cell_type": "markdown",
   "id": "6f0c9240-94cf-4903-9ef9-bca2ccd7d1cc",
   "metadata": {},
   "source": [
    "Initialize the utility class to download Landsat dataset. This class contains methods to accept WGS84 coordinates and convert those into Worldwide Reference System-2 (WRS-2) format. Using the conversion, there are utility methods to download required tiles from Landsat data S3 bucket. "
   ]
  },
  {
   "cell_type": "code",
   "execution_count": null,
   "id": "2897b41c-c63e-45f3-9ba9-e3590f22b12f",
   "metadata": {
    "tags": []
   },
   "outputs": [],
   "source": [
    "landsat_utils = LandsatUtils(aws_access_key, aws_secret_key, aws_session_token, shapefile=\"./WRS2_descending_0/WRS2_descending.shp\")"
   ]
  },
  {
   "cell_type": "markdown",
   "id": "e2a1cecc-7baf-46fd-ba11-20b04174122c",
   "metadata": {},
   "source": [
    "### Download and merge Landsat tiles\n",
    "\n",
    "This downloads Lansat tiles for the given bounding box and date. In addition to the tiles for the particular date, it will download additional 12 tiles for previous 12 months to calculate composite outputs. Composite outputs are used to remove clouds and mitigate dispatirites captured on QA flags. Outputs are the files paths for B3, B4 and B5 band tiles along with QA flags those bands. If the given bounding box exceed a extent of a tile in WRS2 grid, this will download the rest of the tiles and merge those into one image."
   ]
  },
  {
   "cell_type": "code",
   "execution_count": null,
   "id": "0b6ad894-69f6-4ae3-8db0-e36fc4833e68",
   "metadata": {},
   "outputs": [],
   "source": [
    "b3_outputs, b4_outputs, b5_outputs, qa_pixel, qa_radsat, sr_qa_aerosol = landsat_utils.download_all_bands(\n",
    "    year, month, day, \n",
    "    lat1, long1, lat2, long2)"
   ]
  },
  {
   "cell_type": "markdown",
   "id": "d18e32d7-6785-4d82-ac5a-c1961f1bbd95",
   "metadata": {},
   "source": [
    "### Crop downloded tiles into the bounding box\n",
    "\n",
    "This will crop the downloaded tiles into the exact bounding box provided by the input coordinate "
   ]
  },
  {
   "cell_type": "code",
   "execution_count": 10,
   "id": "8bb56d00-e70c-48f8-9dc9-c9fdd1f02d85",
   "metadata": {
    "tags": []
   },
   "outputs": [],
   "source": [
    "b3_final, b4_final, b5_final, p_final, r_final, a_final = gis_utils.crop_products_to_bb(lat1, long1, lat2, long2, \n",
    "                                                                              b3_outputs, b4_outputs, b5_outputs, \n",
    "                                                                              qa_pixel, qa_radsat, sr_qa_aerosol)\n",
    "\n"
   ]
  },
  {
   "cell_type": "markdown",
   "id": "5b4c7a10-7503-4978-a9dd-545be1f278a2",
   "metadata": {},
   "source": [
    "### Apply quality flags for bands\n",
    "\n",
    "This is the last stage of pre processing of the Landsat data. We use the quality flags to turn off pixels which are not proprtly captured from satellites. More information on these quality flags can be found from here https://www.usgs.gov/landsat-missions/landsat-collection-2-quality-assessment-bands"
   ]
  },
  {
   "cell_type": "code",
   "execution_count": 20,
   "id": "4b1c0d39-d310-4ba0-ba61-d70882958e45",
   "metadata": {},
   "outputs": [],
   "source": [
    "b3_pxs = []\n",
    "b4_pxs = []\n",
    "b5_pxs = []\n",
    "for i in range(len(b3_final)):\n",
    "    p_px, in_geo, projref  = gis_utils.get_geo(p_final[i], 1)\n",
    "    a_px, in_geo, projref  = gis_utils.get_geo(a_final[i], 1)\n",
    "    r_px, in_geo, projref  = gis_utils.get_geo(r_final[i], 1)\n",
    "    \n",
    "    cloud_pixels = landsat_utils.mark_cloud(p_px)\n",
    "    aerosol_pixels = landsat_utils.mark_aerosol(a_px)\n",
    "    \n",
    "    b3_r_px, b4_r_px, b5_r_px = landsat_utils.mark_radsat(r_px)\n",
    "    \n",
    "    b3_px, in_geo, projref  = gis_utils.get_geo(b3_final[i], 1)\n",
    "    b4_px, in_geo, projref  = gis_utils.get_geo(b4_final[i], 1)\n",
    "    b5_px, in_geo, projref  = gis_utils.get_geo(b5_final[i], 1)\n",
    "    \n",
    "    b3_px = b3_px  * cloud_pixels * aerosol_pixels * b3_r_px\n",
    "    b4_px = b4_px  * cloud_pixels * aerosol_pixels * b4_r_px\n",
    "    b5_px = b5_px  * cloud_pixels * aerosol_pixels * b5_r_px\n",
    "    \n",
    "    b3_pxs.append(np.array(b3_px))\n",
    "    b4_pxs.append(np.array(b4_px))\n",
    "    b5_pxs.append(np.array(b5_px))\n",
    "\n"
   ]
  },
  {
   "cell_type": "markdown",
   "id": "344b5660-a931-4918-91b7-d5e7efdbf0c1",
   "metadata": {},
   "source": [
    "### Calculate the composite output for bands\n",
    "\n",
    "Now we have 12 layers for each band representing 12 months back starting from the input date. The pixels for each layer which were identified by QA flags were set to 0. In this cell, those 12 layers are flattend based on the median of corresponding pixels "
   ]
  },
  {
   "cell_type": "code",
   "execution_count": null,
   "id": "17aad672-2833-4cbf-b96b-21f573c31abd",
   "metadata": {},
   "outputs": [],
   "source": [
    "b3 = np.nanmedian(np.where(np.stack(b3_pxs) == 0, np.nan, np.stack(b3_pxs)), axis=0)\n",
    "b3_pxs = None\n",
    "b4 = np.nanmedian(np.where(np.stack(b4_pxs) == 0, np.nan, np.stack(b4_pxs)), axis=0)\n",
    "b4_pxs = None\n",
    "b5 = np.nanmedian(np.where(np.stack(b5_pxs) == 0, np.nan, np.stack(b5_pxs)), axis=0)\n",
    "b5_pxs = None"
   ]
  },
  {
   "cell_type": "markdown",
   "id": "34ec1251-3c20-4e07-bd6c-9c051b3b14ed",
   "metadata": {},
   "source": [
    "### Save final band pixels into GeoTiff files"
   ]
  },
  {
   "cell_type": "code",
   "execution_count": 22,
   "id": "f910e320-4348-4ee7-a0d5-f4912b665b72",
   "metadata": {},
   "outputs": [],
   "source": [
    "gis_utils.save_geotiff_single(\"outputs/B3.tif\", b3, projref, in_geo)\n",
    "b3 = None\n",
    "gis_utils.save_geotiff_single(\"outputs/B4.tif\", b4, projref, in_geo)\n",
    "b4 = None\n",
    "gis_utils.save_geotiff_single(\"outputs/B5.tif\", b5, projref, in_geo)\n",
    "b5 = None"
   ]
  },
  {
   "cell_type": "markdown",
   "id": "1c5e2e01-50ed-4b6f-8e1c-3394f63190ca",
   "metadata": {},
   "source": [
    "### Convert bands into WGS84\n",
    "\n",
    "Landsat data is recorded in UTM coordinate system. In Black Marble data products, we want all the input images to be in WGS84 fomat. Here we convert band images saved from previous step into that target coordinate system"
   ]
  },
  {
   "cell_type": "code",
   "execution_count": 23,
   "id": "f0df5d65-364d-492d-9461-1f0b0bb10601",
   "metadata": {},
   "outputs": [],
   "source": [
    "gis_utils.convert_to_wgs84(\"outputs/B3.tif\", \"outputs/B3_WGS84.tif\", long1, lat1, long2, lat2)\n",
    "gis_utils.convert_to_wgs84(\"outputs/B4.tif\", \"outputs/B4_WGS84.tif\", long1, lat1, long2, lat2)\n",
    "gis_utils.convert_to_wgs84(\"outputs/B5.tif\", \"outputs/B5_WGS84.tif\", long1, lat1, long2, lat2)"
   ]
  },
  {
   "cell_type": "markdown",
   "id": "9235c072-9061-42ad-87ba-c629c1811ed7",
   "metadata": {},
   "source": [
    "### Download VNP46A2 products\n",
    "\n",
    "VNP46A2 is the night time data product that can be downloaded from NASA Eath Data Catalog. This data product is distributed in HDF5 format with 7 layers. We use \"Gap-Filled DNB BRDF-Corrected NTL\" layer with assiciated quality flags to derrive the night time image for the given bounding box and data. More information for this product can be found from https://ladsweb.modaps.eosdis.nasa.gov/missions-and-measurements/products/VNP46A2/"
   ]
  },
  {
   "cell_type": "code",
   "execution_count": null,
   "id": "656779bf-3f2a-49be-b5fb-35b7d62a68fb",
   "metadata": {},
   "outputs": [],
   "source": [
    "# Download night images\n",
    "\n",
    "download_file = \"VNP46A2.h5\"\n",
    "\n",
    "vnp46Util = VNP46A2Utils()\n",
    "vertical, horizontal = vnp46Util.coordinates_to_tile_id(lat1, long1)\n",
    "vnp46Util.download_h5(earth_data_token, year, month, day, vertical, horizontal, download_file)\n",
    "vnp46Util.convert_VNP46A2_HDF2TIFF(download_file, \"gap_filled_dnb_brdf_corrected_ntl.tif\", 2)\n",
    "vnp46Util.convert_VNP46A2_HDF2TIFF(download_file, \"mandatory_quality_flag.tif\", 4)\n",
    "vnp46Util.convert_VNP46A2_HDF2TIFF(download_file, \"qf_cloud_mask.tif\", 5)\n",
    "vnp46Util.convert_VNP46A2_HDF2TIFF(download_file, \"snow_flag.tif\", 6)\n",
    "\n",
    "gfdbcn, in_geo, projref  = gis_utils.get_geo(\"gap_filled_dnb_brdf_corrected_ntl.tif\", 1)\n",
    "gfdbcn = np.where(gfdbcn == 65535, 0, gfdbcn)\n",
    "gis_utils.save_geotiff_single(\"gap_filled_dnb_brdf_corrected_ntl.tif\", gfdbcn, projref, in_geo)\n",
    "\n",
    "\n",
    "maxY = max(lat1, lat2)\n",
    "minY = min(lat1, lat2)\n",
    "maxX = max(long1, long2)\n",
    "minX = min(long1, long2)\n",
    "scale = 0.00011111111\n",
    "\n",
    "gis_utils.subset_raster_normal(\"gap_filled_dnb_brdf_corrected_ntl.tif\", \"outputs/gap_filled_dnb_brdf_corrected_ntl.tif\", minX, maxY, maxX, minY, scale) \n",
    "gis_utils.subset_raster_normal(\"mandatory_quality_flag.tif\", \"outputs/mandatory_quality_flag.tif\", minX, maxY, maxX, minY, scale) \n",
    "gis_utils.subset_raster_normal(\"qf_cloud_mask.tif\", \"outputs/qf_cloud_mask.tif\", minX, maxY, maxX, minY, scale) \n",
    "gis_utils.subset_raster_normal(\"snow_flag.tif\", \"outputs/snow_flag.tif\", minX, maxY, maxX, minY, scale) \n",
    "\n",
    "gap_filled_ntl, in_geo, projref  = gis_utils.get_geo(\"outputs/gap_filled_dnb_brdf_corrected_ntl.tif\", 1)\n",
    "adjusted_ntl =  np.where(gap_filled_ntl > 65534, 0, gap_filled_ntl) # * 0.1 # scale factor\n",
    "\n",
    "# Final night time image is saved\n",
    "gis_utils.save_geotiff_single(\"outputs/adjusted_ntl.tif\", adjusted_ntl, projref, in_geo)\n"
   ]
  },
  {
   "cell_type": "markdown",
   "id": "cf4e55b6-3bf5-4f04-9718-5bbf3f1506ce",
   "metadata": {},
   "source": [
    "### Download the open street map data product\n",
    "\n",
    "Open Street Map provides the road systems of the world as graph represntation. We use that graph and convert it into a GeoTiff for the given bounding box. It uses the geo location parameters from the night time image generated in the previous cell"
   ]
  },
  {
   "cell_type": "code",
   "execution_count": null,
   "id": "47c702a4-7159-4779-b5ed-1ecccb0fd792",
   "metadata": {},
   "outputs": [],
   "source": [
    "# Download openstreet maps\n",
    "osm_utl = OSMUtils()\n",
    "osm_utl.create_road_raster(lat1, long1, lat2, long2,  output_path=\"outputs/osm.tif\", \n",
    "                           raster_value = 1, path_thickness = 0.00005, reference_raster = \"outputs/adjusted_ntl.tif\")"
   ]
  },
  {
   "cell_type": "markdown",
   "id": "feee3ecd-efc0-4e8c-a5fb-8aa41a087233",
   "metadata": {},
   "source": [
    "### Scale all the input images \n",
    "\n",
    "Now we have 3 Bands from Landsat, Night time image and the open street map image in GeoTiff and WGS84 format. Then we need to being all images into one resolution. We use the standard 10m resolution where each pixel represent a 10 m x 10 m are of the earth."
   ]
  },
  {
   "cell_type": "code",
   "execution_count": 26,
   "id": "410db3c2-1848-402b-ba5e-038c63d3e406",
   "metadata": {},
   "outputs": [],
   "source": [
    "\n",
    "input_files = ['outputs/B3_WGS84.tif', 'outputs/B4_WGS84.tif', 'outputs/B5_WGS84.tif',\n",
    "               'outputs/adjusted_ntl.tif', 'outputs/osm.tif'] \n",
    "\n",
    "# Output file names\n",
    "output_files = ['outputs/final/B3.tif', 'outputs/final/B4.tif', \n",
    "                'outputs/final/B5.tif', \n",
    "                'outputs/final/ntl.tif', 'outputs/final/osm.tif']\n",
    "\n",
    "# Desired resolution\n",
    "desired_resolution = (0.0001, -0.0001)  # Replace with your desired resolution in degrees (x_resolution, y_resolution)\n",
    "\n",
    "# Loop through each input file\n",
    "for i, input_file in enumerate(input_files):\n",
    "    output_file = output_files[i]\n",
    "    # Open the input dataset\n",
    "    input_dataset = gdal.Open(input_file)\n",
    "    # Perform the resampling to the desired resolution\n",
    "    gdal.Warp(output_file, input_dataset, format='GTiff', xRes=desired_resolution[0], yRes=desired_resolution[1])\n",
    "    # Close the input dataset\n",
    "    input_dataset = None\n",
    "\n",
    "b3_final_px, in_geo, projref = gis_utils.get_geo('outputs/final/B3.tif', 1)\n",
    "b4_final_px, _, _ = gis_utils.get_geo('outputs/final/B4.tif', 1)\n",
    "b5_final_px, _, _ = gis_utils.get_geo('outputs/final/B5.tif', 1)\n",
    "osm_final_px, _, _ = gis_utils.get_geo('outputs/final/osm.tif', 1)\n",
    "ntl_final_px, _, _ = gis_utils.get_geo('outputs/final/ntl.tif', 1)\n",
    "\n",
    "gaps_filed_stack = gis_utils.fill_gaps([b3_final_px, b4_final_px, b5_final_px, osm_final_px, ntl_final_px])\n",
    "\n",
    "b3_final_px = landsat_utils.rescale_bands(gaps_filed_stack[0])\n",
    "b4_final_px = landsat_utils.rescale_bands(gaps_filed_stack[1])\n",
    "b5_final_px = landsat_utils.rescale_bands(gaps_filed_stack[2])\n",
    "osm_final_px = gaps_filed_stack[3]\n",
    "ntl_final_px = gaps_filed_stack[4]"
   ]
  },
  {
   "cell_type": "markdown",
   "id": "88778a21-c48b-42ab-b61c-d745fef82e8e",
   "metadata": {},
   "source": [
    "### Calculate NDVI and NDWI products\n",
    "\n",
    "Using band 3, 4 and 5 final outputs, we calculate the NDVI and NDWI products. NDVI highlights areas where vegitation is significant and NDWI shows areas where water is visible."
   ]
  },
  {
   "cell_type": "code",
   "execution_count": 27,
   "id": "473e0fc2-6cda-4530-91f6-6c7af75f211d",
   "metadata": {},
   "outputs": [],
   "source": [
    "ndvi = (b5_final_px - b4_final_px) / (b5_final_px + b4_final_px)\n",
    "ndwi = (b3_final_px - b5_final_px) / (b3_final_px + b5_final_px)\n",
    "\n",
    "b3_final_px = None\n",
    "b4_final_px = None\n",
    "b5_final_px = None\n",
    "\n",
    "ndvi = np.where(ndvi > 1, 1.0, ndvi)\n",
    "ndvi = np.where(ndvi < -1, -1.0, ndvi)\n",
    "\n",
    "ndwi = np.where(ndwi > 1, 1.0, ndwi)\n",
    "ndwi = np.where(ndwi < -1, -1.0, ndwi)"
   ]
  },
  {
   "cell_type": "markdown",
   "id": "ebd8dff7-7862-41b9-9817-8ef42235e54c",
   "metadata": {},
   "source": [
    "# Generate Balck Marble Data Products\n",
    "\n",
    "Finally we calculate the Black Marble Data product using NDWI, NDVI, Night Time Image and Open Street Map Image. This is a RGBA image which shows a high definition representation of night lights"
   ]
  },
  {
   "cell_type": "code",
   "execution_count": 28,
   "id": "43b92801-24f2-49d3-b3e9-1ba4ca2383ba",
   "metadata": {},
   "outputs": [],
   "source": [
    "ntl_floor = 0.1\n",
    "ntl_ceiling = 10\n",
    "ndui_floor = 0.02\n",
    "\n",
    "##############Read Images as Array################\n",
    "img_road = osm_final_px\n",
    "img_ndvi = ndvi\n",
    "img_ndwi = ndwi\n",
    "img_ntl = ntl_final_px\n",
    "\n",
    "#make nodate (65535) as zero\n",
    "img_ntl =  np.where(img_ntl > 65534, 0, img_ntl)\n",
    "\n",
    "#Scale Radiance value If needed\n",
    "img_ntl = img_ntl.astype(float)\n",
    "img_ntl = img_ntl/10\n",
    "\n",
    "###############Calculate NDUI#############################\n",
    "img_ntl = np.where(img_ntl > ntl_ceiling, ntl_ceiling, img_ntl)\n",
    "img_ntl = np.where(img_ntl < ntl_floor, 0.0, img_ntl)\n",
    "img_ntl = img_ntl/ntl_ceiling\n",
    "\n",
    "ndui = (((img_ntl - img_ndvi))/((img_ntl + img_ndvi + 0.00001)))\n",
    "\n",
    "ndui = np.where(ndui > 1.0, 1.0, ndui)\n",
    "ndui = np.where(ndui < -1.0, -1.0, ndui)\n",
    "\n",
    "#Apply Water Mask\n",
    "ndui = np.where(img_ndwi >= 0.0, -1.0, ndui)\n",
    "\n",
    "ndui  = abs((ndui+1.0))/2.0\n",
    "ndui = np.where(ndui < ndui_floor, 0.0, ndui)\n",
    "\n",
    "#increase intensity for roads\n",
    "ndui = np.where((img_road == 1)|(img_road == 4), ndui*1.3, ndui)\n",
    "ndui = np.where((img_road == 2)|(img_road == 3)|(img_road == 5)|(img_road == 6), ndui*1.1, ndui)\n",
    "\n",
    "ndui = ndui / 1.3\n",
    "\n",
    "output_co = \"outputs/final/ndui-co.tif\"\n",
    "\n",
    "#### Output Image Scale Range from 0 to 1 (Best display value 0.3 - 0.8)##############\n",
    "min_value = 0.3\n",
    "max_value = 0.8\n",
    "\n",
    "r = np.load('inferno_r.npy')\n",
    "g = np.load('inferno_g.npy')\n",
    "b = np.load('inferno_b.npy')\n",
    "\n",
    "r[0] = 0\n",
    "g[0] = 0\n",
    "b[0] = 0\n",
    "\n",
    "img_ndui_scale = gis_utils.scale_image(ndui, min_value, max_value)\n",
    "\n",
    "post_rr = r[img_ndui_scale]\n",
    "post_gg = g[img_ndui_scale]\n",
    "post_bb = b[img_ndui_scale]"
   ]
  },
  {
   "cell_type": "markdown",
   "id": "bc556fd6-ddba-4aa0-bfd4-040d95c99761",
   "metadata": {},
   "source": [
    "### Generate the final Cloud Optimized GeoTiff for Black Marble Data Product"
   ]
  },
  {
   "cell_type": "code",
   "execution_count": null,
   "id": "617b8732-830b-4ce1-a218-cf911908aa9a",
   "metadata": {},
   "outputs": [],
   "source": [
    "alpha = np.full(post_bb.shape, 255, dtype=np.uint8)\n",
    "\n",
    "with rasterio.open('outputs/final/B3.TIFF') as src: # Get metadata information from a processed B3\n",
    "        arr = src.read()\n",
    "        kwargs = src.meta\n",
    "    \n",
    "kwargs['dtype'] = 'uint8'\n",
    "kwargs['count'] = 4\n",
    "arr = np.array([post_rr, post_gg, post_bb, alpha]).astype(np.uint8)\n",
    "\n",
    "kwargs.update(driver=\"GTiff\", predictor=2)\n",
    "with MemoryFile() as memfile:\n",
    "    # Opening an empty MemoryFile for in memory operation - faster\n",
    "    with memfile.open(**kwargs) as mem:\n",
    "        # Writing the array values to MemoryFile using the rasterio.io module\n",
    "        # https://rasterio.readthedocs.io/en/stable/api/rasterio.io.html\n",
    "        mem.write(arr)\n",
    "\n",
    "        dst_profile = cog_profiles.get(\"deflate\")\n",
    "        dst_profile['nodata'] = 0\n",
    "\n",
    "        config = dict(\n",
    "        GDAL_NUM_THREADS=\"ALL_CPUS\",\n",
    "        GDAL_TIFF_OVR_BLOCKSIZE=\"256\",\n",
    "        )\n",
    "        # Creating destination COG\n",
    "        cog_translate(\n",
    "            mem,\n",
    "            output_co,\n",
    "            dst_profile,\n",
    "            in_memory=False,\n",
    "            config = config\n",
    "        )"
   ]
  },
  {
   "cell_type": "markdown",
   "id": "05589bb4-2332-4f4a-8daf-ff339b1fdb3c",
   "metadata": {},
   "source": [
    "### Final visualization of the Black Marble output"
   ]
  },
  {
   "cell_type": "code",
   "execution_count": 25,
   "id": "8f0da05b-c26b-4de1-a0a8-8c305de35868",
   "metadata": {},
   "outputs": [
    {
     "name": "stderr",
     "output_type": "stream",
     "text": [
      "/srv/conda/envs/notebook/lib/python3.10/site-packages/PIL/Image.py:3157: DecompressionBombWarning: Image size (93284516 pixels) exceeds limit of 89478485 pixels, could be decompression bomb DOS attack.\n",
      "  warnings.warn(\n"
     ]
    },
    {
     "data": {
      "image/png": "[encoded data removed]",
      "text/plain": [
       "<Figure size 640x480 with 1 Axes>"
      ]
     },
     "metadata": {},
     "output_type": "display_data"
    }
   ],
   "source": [
    "import matplotlib.pyplot as plt\n",
    "import matplotlib.image as mpimg\n",
    "img = mpimg.imread('outputs/final/ndui-co.tif')\n",
    "imgplot = plt.imshow(img)\n",
    "plt.show()"
   ]
  },
  {
   "cell_type": "code",
   "execution_count": null,
   "id": "10a90ece-3549-4726-a72d-1c4e3e2922a9",
   "metadata": {},
   "outputs": [],
   "source": []
  }
 ],
 "metadata": {
  "kernelspec": {
   "display_name": "Python 3 (ipykernel)",
   "language": "python",
   "name": "python3"
  },
  "language_info": {
   "codemirror_mode": {
    "name": "ipython",
    "version": 3
   },
   "file_extension": ".py",
   "mimetype": "text/x-python",
   "name": "python",
   "nbconvert_exporter": "python",
   "pygments_lexer": "ipython3",
   "version": "3.10.12"
  }
 },
 "nbformat": 4,
 "nbformat_minor": 5
}
