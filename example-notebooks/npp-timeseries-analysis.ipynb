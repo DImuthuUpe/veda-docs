{
 "cells": [
  {
   "cell_type": "raw",
   "metadata": {},
   "source": [
    "---\n",
    "title: Visualizing Ocean NPP time series for seasonal patterns \n",
    "description: Explores Ocean NPP patterns over time in Walvis Bay, Namibia using the Raster API.\n",
    "author: Kathryn Berger\n",
    "date: March 1, 2023\n",
    "execute:\n",
    "   freeze: true\n",
    "---"
   ]
  },
  {
   "cell_type": "markdown",
   "metadata": {},
   "source": []
  },
  {
   "cell_type": "markdown",
   "metadata": {},
   "source": [
    "## Run this notebook\n",
    "\n",
    "You can launch this notbook using mybinder, by clicking the button below.\n",
    "\n",
    "[Placeholder for Binder link]"
   ]
  },
  {
   "cell_type": "markdown",
   "metadata": {},
   "source": [
    "## Approach\n",
    "\n",
    "   1. Identify available dates and temporal frequency for a given collection\n",
    "   2. Pass STAC item into raster API `/stac/tilejson.json` endpoint\n",
    "   3. Get time series statistics over available time period to identify seasonal trends\n",
    "   4. Visualize peak by displaying the tile in `folium`\n",
    "   5. Visualize time series \n",
    "   "
   ]
  },
  {
   "cell_type": "markdown",
   "metadata": {},
   "source": [
    "## About the Data\n",
    "\n",
    "[Ocean Net Primary Production (NPP)](https://oceancolor.gsfc.nasa.gov/atbd/npp/) is the result of CO2 fixation, through photosynthesis, by marine phytoplankton which contain chlorophyll. It is the proportion of phytoplankton-sequestered carbon that enters the oceanic food web and supports a variety of marine life.  "
   ]
  },
  {
   "cell_type": "markdown",
   "metadata": {},
   "source": [
    "## The Case Study - Walvis Bay, Namibia\n",
    "\n",
    "Walvis Bay is home to Namibia's largest marine farming center and a well established commercial fishing industry. It's location in the nutrient-rich Benguela upwelling system of the Atlantic Ocean, means producers can rely on this area to cultivate an abundance of shellfish including oysters, mussels, and scallops.\n",
    "\n",
    "Occasionally the nutrient-rich waters of the Atlantic produce higher than normal NPP levels, resulting in short-lived harmful algal blooms. This is often a result of both favorable temperatures and abundance of sufficient nutrients. The resulting algal blooms can have severe consequences causing massive fish kills, contaminating seafood with toxins and creating an unsafe environment for humans and marine life. Toxins accumulated in the shellfish organs can be subsequently transmitted to humans through consumption and resulting in serious health threats. \n",
    "\n",
    "In this example we explore the Ocean NPP dataset over the year 2020 to identify spatial and temporal patterns in NPP in the Walvis Bay area. "
   ]
  },
  {
   "cell_type": "markdown",
   "metadata": {},
   "source": [
    "## Querying the STAC API"
   ]
  },
  {
   "cell_type": "code",
   "execution_count": null,
   "metadata": {},
   "outputs": [],
   "source": [
    "import requests\n",
    "from folium import Map, TileLayer\n"
   ]
  },
  {
   "cell_type": "code",
   "execution_count": null,
   "metadata": {},
   "outputs": [],
   "source": [
    "# Provife STAC and RASTER API endpoints\n",
    "STAC_API_URL = \"https://staging-stac.delta-backend.com\"\n",
    "RASTER_API_URL = \"https://staging-raster.delta-backend.com\"\n",
    "\n",
    "# Declare collection of interest - Ocean NPP \n",
    "collection_name = \"MO_NPP_npp_vgpm\""
   ]
  },
  {
   "cell_type": "code",
   "execution_count": null,
   "metadata": {},
   "outputs": [],
   "source": [
    "#Fetch STAC collection\n",
    "collection = requests.get(f\"{STAC_API_URL}/collections/{collection_name}\").json()\n",
    "collection"
   ]
  },
  {
   "cell_type": "code",
   "execution_count": null,
   "metadata": {},
   "outputs": [],
   "source": [
    "# Verify frequency of data available\n",
    "collection[\"dashboard:time_density\"]"
   ]
  },
  {
   "cell_type": "code",
   "execution_count": null,
   "metadata": {},
   "outputs": [],
   "source": [
    "# Get collection summary\n",
    "collection[\"summaries\"]"
   ]
  },
  {
   "cell_type": "markdown",
   "metadata": {},
   "source": [
    "Great, we can explore the year 2020 time series. Let's create a bounding box to explore the Walvis Bay area of interest (AOI) in Namibia"
   ]
  },
  {
   "cell_type": "code",
   "execution_count": null,
   "metadata": {},
   "outputs": [],
   "source": [
    "# Walvis Bay, Namibia\n",
    "walvis_bay_aoi = {\n",
    "    \"type\": \"Feature\",\n",
    "    \"properties\": {},\n",
    "    \"geometry\": {\n",
    "        \"coordinates\": [\n",
    "          [\n",
    "            [\n",
    "              13.686159004559698,\n",
    "              -21.700046934333145\n",
    "            ],\n",
    "            [\n",
    "              13.686159004559698,\n",
    "              -23.241974326585833\n",
    "            ],\n",
    "            [\n",
    "              14.753560168039911,\n",
    "              -23.241974326585833\n",
    "            ],\n",
    "            [\n",
    "              14.753560168039911,\n",
    "              -21.700046934333145\n",
    "            ],\n",
    "            [\n",
    "              13.686159004559698,\n",
    "              -21.700046934333145\n",
    "            ]\n",
    "          ]\n",
    "        ],\n",
    "        \"type\": \"Polygon\"\n",
    "      }\n",
    "    }"
   ]
  },
  {
   "cell_type": "markdown",
   "metadata": {},
   "source": [
    "Let's visualize the AOI we have just created using `folium` "
   ]
  },
  {
   "cell_type": "code",
   "execution_count": null,
   "metadata": {},
   "outputs": [],
   "source": [
    "# We'll plug in the coordinates for a location\n",
    "# central to the study area and a reasonable zoom level\n",
    "\n",
    "import folium\n",
    "m = Map(\n",
    "    tiles=\"OpenStreetMap\", \n",
    "    location=[\n",
    "         -22.421460,\n",
    "         14.268801,\n",
    "        ], zoom_start=8)\n",
    "\n",
    "folium.GeoJson(walvis_bay_aoi, name=\"Walvis Bay\").add_to(m)\n",
    "m"
   ]
  },
  {
   "cell_type": "markdown",
   "metadata": {},
   "source": [
    "Returning back to our STAC API requests, let's check how many total items are available. "
   ]
  },
  {
   "cell_type": "code",
   "execution_count": null,
   "metadata": {},
   "outputs": [],
   "source": [
    "# Check total number of items available\n",
    "items = requests.get(f\"{STAC_API_URL}/collections/{collection_name}/items?limit=100\").json()[\"features\"]\n",
    "print(f\"Found {len(items)} items\")"
   ]
  },
  {
   "cell_type": "markdown",
   "metadata": {},
   "source": [
    "This makes sense is our collection is monthly, so we should have 12 total items."
   ]
  },
  {
   "cell_type": "code",
   "execution_count": null,
   "metadata": {},
   "outputs": [],
   "source": [
    "# Explore one item to see what it contains\n",
    "items[0]"
   ]
  },
  {
   "cell_type": "markdown",
   "metadata": {},
   "source": [
    "Now that we have explored the collection metadata by querying the STAC API, we can use the RASTER API to access the data itself."
   ]
  },
  {
   "cell_type": "code",
   "execution_count": null,
   "metadata": {},
   "outputs": [],
   "source": [
    "# the bounding box should be passed to the geojson param as a geojson Feature or FeatureCollection\n",
    "def generate_stats(item, geojson):\n",
    "    result = requests.post(\n",
    "        f\"{RASTER_API_URL}/cog/statistics\", \n",
    "        params={\"url\": item[\"assets\"][\"cog_default\"][\"href\"]},\n",
    "        json=geojson\n",
    "    ).json()    \n",
    "    return {\n",
    "        **result[\"properties\"], \"start_datetime\": item[\"properties\"][\"start_datetime\"]\n",
    "    }"
   ]
  },
  {
   "cell_type": "code",
   "execution_count": null,
   "metadata": {},
   "outputs": [],
   "source": [
    "%%time \n",
    "stats = [generate_stats(item, walvis_bay_aoi) for item in items]"
   ]
  },
  {
   "cell_type": "markdown",
   "metadata": {},
   "source": [
    "With the function provided above, we can generate statistics for our AOI. In the example below, we'll explore sample statistics available from one of the tiles. "
   ]
  },
  {
   "cell_type": "code",
   "execution_count": null,
   "metadata": {},
   "outputs": [],
   "source": [
    "stats[0]"
   ]
  },
  {
   "cell_type": "code",
   "execution_count": null,
   "metadata": {},
   "outputs": [],
   "source": [
    "import pandas as pd\n",
    "\n",
    "def clean_stats(stats_json) -> pd.DataFrame:\n",
    "    df = pd.json_normalize(stats_json)\n",
    "    df.columns = [col.replace(\"statistics.1.\", \"\") for col in df.columns]\n",
    "    df[\"date\"] = pd.to_datetime(df[\"start_datetime\"])\n",
    "    return df\n",
    "\n",
    "df = clean_stats(stats)"
   ]
  },
  {
   "cell_type": "markdown",
   "metadata": {},
   "source": [
    "## Visualizing the Data as a Time Series\n",
    "\n",
    "We can now explore the full time series available (January-December 2020) for the Walvis Bay area of Namibia. We can plot the data set using the code below: "
   ]
  },
  {
   "cell_type": "code",
   "execution_count": null,
   "metadata": {},
   "outputs": [],
   "source": [
    "import matplotlib.pyplot as plt\n",
    "fig = plt.figure(figsize=(20,10))\n",
    "\n",
    "plt.plot(df[\"date\"], df[\"mean\"], 'black', label=\"Mean monthly Ocean NPP values\")\n",
    "\n",
    "plt.fill_between(df[\"date\"], df[\"mean\"] + df[\"std\"], df[\"mean\"] - df[\"std\"], facecolor=\"lightgray\", interpolate=False, label=\"+/- one standard devation\")\n",
    "\n",
    "plt.plot(df[\"date\"], df[\"min\"], color='blue', linestyle=\"-\", linewidth=0.5, label=\"Min monthly NPP values\")\n",
    "plt.plot(df[\"date\"], df[\"max\"], color='red', linestyle=\"-\", linewidth=0.5, label=\"Max monhtly NPP values\")\n",
    "\n",
    "plt.legend()\n",
    "plt.title(\"Ocean NPP Values for Walvis Bay, Namibia (2020)\")"
   ]
  },
  {
   "cell_type": "markdown",
   "metadata": {},
   "source": [
    "Here, we observe the seasonal variability in oceanic NPP for the Walvis Bay area. The larger peaks in the max values suggests the intensity of these events may vary spatially. Let's explore one of the time steps (e.g., October) where there are higher maximum monthly NPP values to see if this is the case.\n",
    "\n",
    "**Important note**: Keep in mind that the size and extent of your AOI will influence the 'signal' of your time series. If the phenomena you are investigating displays greater spatial variability a larger AOI will provide more 'noise' making it more difficult to detect."
   ]
  },
  {
   "cell_type": "markdown",
   "metadata": {},
   "source": [
    "## Visualizing the Raster Imagery\n",
    "\n",
    "Let's first explore a single tile during one of the relative peaks in October, where we observe an increased sustained peak in NPP values."
   ]
  },
  {
   "cell_type": "code",
   "execution_count": null,
   "metadata": {},
   "outputs": [],
   "source": [
    "print(items[2]['properties']['start_datetime'])"
   ]
  },
  {
   "cell_type": "code",
   "execution_count": null,
   "metadata": {},
   "outputs": [],
   "source": [
    "# Looking at just a single image (one time-stamp in )\n",
    "item = items[2]"
   ]
  },
  {
   "cell_type": "code",
   "execution_count": null,
   "metadata": {},
   "outputs": [],
   "source": [
    "rescale_values = collection[\"summaries\"][\"cog_default\"]\n",
    "rescale_values"
   ]
  },
  {
   "cell_type": "code",
   "execution_count": null,
   "metadata": {},
   "outputs": [],
   "source": [
    "tiles = requests.get(\n",
    "    f\"{RASTER_API_URL}/stac/tilejson.json?collection={item['collection']}&item={item['id']}\"\n",
    "    \"&assets=cog_default\"\n",
    "    \"&color_formula=gamma+r+1.05&colormap_name=viridis\"\n",
    "    f\"&rescale={rescale_values['min']},{rescale_values['max']}\", \n",
    ").json()\n",
    "tiles"
   ]
  },
  {
   "cell_type": "code",
   "execution_count": null,
   "metadata": {},
   "outputs": [],
   "source": [
    "# Use bbox initial zoom and map\n",
    "# Set up a map located w/in event bounds\n",
    "import folium\n",
    "m = Map(\n",
    "    tiles=\"OpenStreetMap\", \n",
    "    location=[\n",
    "         -22.421460,\n",
    "         14.268801,\n",
    "        ], zoom_start=8)\n",
    "\n",
    "map_layer = TileLayer(\n",
    "    tiles=tiles[\"tiles\"][0],\n",
    "    attr=\"VEDA\",\n",
    ")\n",
    "\n",
    "map_layer.add_to(m)\n",
    "\n",
    "m"
   ]
  },
  {
   "cell_type": "markdown",
   "metadata": {},
   "source": [
    "From the image above, we see higher NPP values (displayed in teal) located in and around Walvis Bay and the surrounding shorelines - highlighting areas of concern for the local shellfish industry. "
   ]
  },
  {
   "cell_type": "markdown",
   "metadata": {},
   "source": [
    "## Visualizing the raster time  series\n",
    "Now we will look at each of the raster tiles that make up this time series to explore the spatial and temporal patterns of NPP observed in Walvis Bay throughout 2020."
   ]
  },
  {
   "cell_type": "code",
   "execution_count": null,
   "metadata": {},
   "outputs": [],
   "source": [
    "import matplotlib.pyplot as plt\n",
    "\n",
    "for item in items:\n",
    "    tiles = requests.get(\n",
    "        f\"{RASTER_API_URL}/stac/tilejson.json?collection={item['collection']}&item={item['id']}\"\n",
    "        \"&assets=cog_default\"\n",
    "        \"&color_formula=gamma+r+1.05&colormap_name=viridis\"\n",
    "        f\"&rescale={rescale_values['min']},{rescale_values['max']}\", \n",
    "        ).json()\n",
    "    print(tiles['tiles'])\n"
   ]
  },
  {
   "cell_type": "markdown",
   "metadata": {},
   "source": [
    "We can use the GIF generation example in the documentation [here](https://nasa-impact.github.io/veda-docs/example-notebooks/gif-generation.html#the-cogcrop-endpoint) to help visualize the raster images as a timeseries over 2020. "
   ]
  },
  {
   "cell_type": "code",
   "execution_count": null,
   "metadata": {},
   "outputs": [],
   "source": [
    "# get PNG bytes from API\n",
    "import tempfile\n",
    "from IPython.display import display, Image\n",
    "\n",
    "COG_DEFAULT = [\n",
    "    x for x in requests.get(f\"{STAC_API_URL}/collections\").json()[\"collections\"] if x[\"id\"] == \"MO_NPP_npp_vgpm\"\n",
    "][0][\"summaries\"][\"cog_default\"]\n",
    "\n",
    "for item in items:\n",
    "    image_bytes = requests.post(\n",
    "        f\"{RASTER_API_URL}/cog/crop\", \n",
    "        params={\n",
    "            \"format\": \"png\",\n",
    "            \"height\": 512, \n",
    "            \"width\": 512, \n",
    "            \"url\":items[0][\"assets\"][\"cog_default\"][\"href\"],\n",
    "            \"rescale\": f\"{COG_DEFAULT['min']},{COG_DEFAULT['max']}\",\n",
    "            \"colormap_name\": \"viridis\"\n",
    "        },\n",
    "        json=walvis_bay_aoi\n",
    "    ).content\n",
    "\n",
    "    # Write to temporary file in order to display\n",
    "    f = tempfile.NamedTemporaryFile(suffix=\".png\") \n",
    "    f.write(image_bytes)   \n",
    "\n",
    "    # display PNG!\n",
    "    display(Image(filename=f.name, height=512, width=512))\n",
    "    \n",
    "    #currently is overwriting each temp file, need to revise"
   ]
  },
  {
   "cell_type": "code",
   "execution_count": null,
   "metadata": {},
   "outputs": [],
   "source": [
    "import glob\n",
    "import os\n",
    "import tempfile\n",
    "import time\n",
    "\n",
    "from concurrent.futures import ThreadPoolExecutor\n",
    "from IPython.display import display, Image\n",
    "from gif_generation_dependencies.helper_functions import generate_frame"
   ]
  },
  {
   "cell_type": "markdown",
   "metadata": {},
   "source": [
    "Approach 1: "
   ]
  },
  {
   "cell_type": "code",
   "execution_count": null,
   "metadata": {},
   "outputs": [],
   "source": [
    "COG_DEFAULT = [\n",
    "    x for x in requests.get(f\"{STAC_API_URL}/collections\").json()[\"collections\"] if x[\"id\"] == \"MO_NPP_npp_vgpm\"\n",
    "][0][\"summaries\"][\"cog_default\"]\n",
    "\n",
    "with tempfile.TemporaryDirectory() as tmpdirname:\n",
    "    start = time.time()\n",
    "\n",
    "    args = (\n",
    "        (\n",
    "            item, \n",
    "            walvis_bay_aoi, \n",
    "            tmpdirname, \n",
    "            \"tif\", \n",
    "            \"folium\",\n",
    "            {\n",
    "                \"rescale\":f\"{COG_DEFAULT['min']},{COG_DEFAULT['max']}\",\n",
    "                \"colormap_name\":\"viridis\"\n",
    "            }\n",
    "        ) for item in items\n",
    "    )\n",
    "    \n",
    "    with ThreadPoolExecutor(max_workers=10) as executor: \n",
    "        result = list(executor.map(lambda a: generate_frame(*a), args))\n",
    "    \n",
    "    end = time.time()\n",
    "\n",
    "    print(f\"Gather frames: {round((end-start), 2)} seconds\")\n",
    "\n",
    "    # Note: I'm searching for `*.png` files instead of *.tif files because the webdriver screenshot\n",
    "    # of the folium map interface is exported in png format (this also helps reduce the size of\n",
    "    # the final gif )\n",
    "    imgs = [Image.open(f) for f in sorted(glob.glob(os.path.join(tmpdirname, \"*.png\")))]\n",
    "    imgs[0].save(fp=\"./output_with_osm_basemap.gif\", format='GIF', append_images=imgs[1:], save_all=True, duration=300, loop=0)\n",
    "\n",
    "display.Image(filename=\"./output_with_osm_basemap.gif\")\n",
    "\n",
    "\n",
    "\n"
   ]
  },
  {
   "cell_type": "code",
   "execution_count": null,
   "metadata": {},
   "outputs": [],
   "source": [
    "with tempfile.TemporaryDirectory() as tmpdirname:\n",
    "    generate_frame(items[0], \n",
    "                walvis_bay_aoi, \n",
    "                tmpdirname, \n",
    "                \"tif\", \n",
    "                \"folium\",\n",
    "                {\n",
    "                    \"rescale\":f\"{COG_DEFAULT['min']},{COG_DEFAULT['max']}\",\n",
    "                    \"colormap_name\":\"viridis\"\n",
    "                }\n",
    "    )\n",
    "\n",
    "\n",
    "items[0]"
   ]
  },
  {
   "cell_type": "markdown",
   "metadata": {},
   "source": [
    "Approach 2: "
   ]
  },
  {
   "cell_type": "code",
   "execution_count": null,
   "metadata": {},
   "outputs": [],
   "source": [
    "COG_DEFAULT = [\n",
    "    x for x in requests.get(f\"{STAC_API_URL}/collections\").json()[\"collections\"] if x[\"id\"] == \"MO_NPP_npp_vgpm\"\n",
    "][0][\"summaries\"][\"cog_default\"]\n",
    "\n",
    "# get PNG bytes from API\n",
    "image_bytes = requests.post(\n",
    "    f\"{RASTER_API_URL}/cog/crop\", \n",
    "    params={\n",
    "        \"format\": \"png\",\n",
    "        \"height\": 512, \n",
    "        \"width\": 512, \n",
    "        \"url\":items[0][\"assets\"][\"cog_default\"][\"href\"],\n",
    "        \"rescale\": f\"{COG_DEFAULT['min']},{COG_DEFAULT['max']}\",\n",
    "        \"colormap_name\": \"viridis\"\n",
    "    },\n",
    "    json=walvis_bay_aoi\n",
    ").content\n",
    "\n",
    "# Write to temporary file in order to display\n",
    "f = tempfile.NamedTemporaryFile(suffix=\".png\") \n",
    "f.write(image_bytes)   \n",
    "\n",
    "# display PNG!\n",
    "display.Image(filename=f.name, height=512, width=512)"
   ]
  },
  {
   "cell_type": "code",
   "execution_count": null,
   "metadata": {},
   "outputs": [],
   "source": [
    "# temporary directory to hold PNGs\n",
    "with tempfile.TemporaryDirectory() as tmpdirname:\n",
    "    start = time.time()\n",
    "\n",
    "    args = ((\n",
    "            item, # stac item\n",
    "            walvis_bay_aoi, # aoi to crop\n",
    "            tmpdirname, # tmpdir (optional)\n",
    "            \"tif\", \n",
    "            \"folium\",\n",
    "            {\n",
    "                \"rescale\":f\"{COG_DEFAULT['min']},{COG_DEFAULT['max']}\",\n",
    "                \"colormap_name\":\"viridis\"\n",
    "            } # visualization parameters \n",
    "    ) for item in items )\n",
    "\n",
    "    with ThreadPoolExecutor(max_workers=10) as executor: \n",
    "        result = list(executor.map(lambda a: generate_frame(*a), args))\n",
    "\n",
    "    end = time.time()\n",
    "\n",
    "    print(f\"Gather frames: {round((end-start), 2)} seconds\")\n",
    "\n",
    "    imgs = (Image.open(f) for f in sorted(glob.glob(os.path.join(tmpdirname, \"*.png\"))))\n",
    "    \n",
    "    img = next(imgs)  # extract first image from iterator\n",
    "    img.save(fp=\"./output.gif\", format='GIF', append_images=imgs, save_all=True, duration=300, loop=0)\n",
    "\n",
    "display.Image(filename=\"./output.gif\")\n",
    "\n",
    "\n",
    "\n",
    "\n",
    "\n"
   ]
  },
  {
   "cell_type": "markdown",
   "metadata": {},
   "source": [
    "In this case study we have successfully visualized the spatial and temporal variability of NPP values the Benguela Current, which displays a seasonal pattern of peaking in the winter months when favorable temperatures and nutrient conditions are present. "
   ]
  },
  {
   "cell_type": "markdown",
   "metadata": {},
   "source": [
    "To Do: \n",
    "* work on revised rescale of raster values, perhaps with quantiles if possible - can't do as `cog_default` only has `min` and `max` values. Would need to revisit using pythonic steps instead of RASTER API\n",
    "* create static grid of maps to display side-by-side all 12 time steps (zoomed in on Walvis Bay)"
   ]
  },
  {
   "cell_type": "code",
   "execution_count": null,
   "metadata": {},
   "outputs": [],
   "source": []
  }
 ],
 "metadata": {
  "kernelspec": {
   "display_name": "_env",
   "language": "python",
   "name": "_env"
  },
  "language_info": {
   "codemirror_mode": {
    "name": "ipython",
    "version": 3
   },
   "file_extension": ".py",
   "mimetype": "text/x-python",
   "name": "python",
   "nbconvert_exporter": "python",
   "pygments_lexer": "ipython3",
   "version": "3.9.15"
  },
  "vscode": {
   "interpreter": {
    "hash": "87015ac9780e4a033baeced718a8496e21df125260fcfbf378d0e9a3d3eaa7c2"
   }
  }
 },
 "nbformat": 4,
 "nbformat_minor": 2
}
