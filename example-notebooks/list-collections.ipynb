{
 "cells": [
  {
   "cell_type": "markdown",
   "id": "258bea80",
   "metadata": {},
   "source": [
    "---\n",
    "title: List all collections\n",
    "author: Aimee Barciauskas\n",
    "date: December 26, 2022\n",
    "---"
   ]
  },
  {
   "cell_type": "code",
   "execution_count": 1,
   "id": "20e1239f",
   "metadata": {},
   "outputs": [],
   "source": [
    "from pystac_client import Client"
   ]
  },
  {
   "cell_type": "code",
   "execution_count": 2,
   "id": "bea9d27f",
   "metadata": {},
   "outputs": [],
   "source": [
    "STAC_API_URL = 'https://staging-stac.delta-backend.com/'\n",
    "client = Client.open(STAC_API_URL)"
   ]
  },
  {
   "cell_type": "code",
   "execution_count": 3,
   "id": "01377d27",
   "metadata": {},
   "outputs": [
    {
     "name": "stdout",
     "output_type": "stream",
     "text": [
      "Gridded 2012 EPA Methane Emissions - Composting\n",
      "Black Marble 500m Nightlights Daily Dataset\n"
     ]
    },
    {
     "name": "stdout",
     "output_type": "stream",
     "text": [
      "ICESat-2 L4 Monthly Gridded Sea Ice Thickness (COGs)\n",
      "Social Vulnerability Index (Household)\n"
     ]
    },
    {
     "name": "stdout",
     "output_type": "stream",
     "text": [
      "NO₂\n"
     ]
    },
    {
     "name": "stdout",
     "output_type": "stream",
     "text": [
      "NO₂ (Diff)\n",
      "MTBS Burn Severity\n"
     ]
    },
    {
     "name": "stdout",
     "output_type": "stream",
     "text": [
      "ECCO sea-surface height change from 1992 to 2017\n",
      "Trend in Terrestrial Water Storage (TWS) Anomalies\n"
     ]
    },
    {
     "name": "stdout",
     "output_type": "stream",
     "text": [
      "Social Vulnerability Index (Housing)\n",
      "GRDI IMR Constituent Raster\n"
     ]
    },
    {
     "name": "stdout",
     "output_type": "stream",
     "text": [
      "Annual land cover maps for 2001 and 2020\n",
      "NCEO Africa Aboveground Woody Biomass 2017\n"
     ]
    },
    {
     "name": "stdout",
     "output_type": "stream",
     "text": [
      "HLSL30.002 Environmental Justice Events\n",
      "Gridded 2012 EPA Methane Emissions - Natural Gas Processing\n"
     ]
    },
    {
     "name": "stdout",
     "output_type": "stream",
     "text": [
      "Gridded 2012 EPA Methane Emissions - Domestic Wastewater Treatment\n",
      "Gridded 2012 EPA Methane Emissions - Forest Fires\n"
     ]
    },
    {
     "name": "stdout",
     "output_type": "stream",
     "text": [
      "Gridded 2012 EPA Methane Emissions - Industrial Wastewater Treatment\n",
      "Gridded 2012 EPA Methane Emissions - Petroleum\n"
     ]
    },
    {
     "name": "stdout",
     "output_type": "stream",
     "text": [
      "Gridded 2012 EPA Methane Emissions - Surface Coal Mines\n",
      "Gridded 2012 EPA Methane Emissions - Mobile Combustion\n"
     ]
    },
    {
     "name": "stdout",
     "output_type": "stream",
     "text": [
      "Gridded 2012 EPA Methane Emissions - Field Burning\n",
      "Terrestrial Water Storage (TWS) Anomalies\n"
     ]
    },
    {
     "name": "stdout",
     "output_type": "stream",
     "text": [
      "Gridded 2012 EPA Methane Emissions - Petrochemical Production\n",
      "Caldor Fire Behavior\n"
     ]
    },
    {
     "name": "stdout",
     "output_type": "stream",
     "text": [
      "Caldor Fire Burn Severity\n",
      "Gridded 2012 EPA Methane Emissions - Natural Gas Production (monthly)\n"
     ]
    },
    {
     "name": "stdout",
     "output_type": "stream",
     "text": [
      "CO₂ (Avg)\n",
      "Global TWS Non-Stationarity Index\n"
     ]
    },
    {
     "name": "stdout",
     "output_type": "stream",
     "text": [
      "Annual LAI maps for 2003 and 2021 (Bangladesh)\n",
      "Projections of Snow Water Equivalent (SWE)\n"
     ]
    },
    {
     "name": "stdout",
     "output_type": "stream",
     "text": [
      "Projections of Snow Water Equivalent (SWE) losses\n",
      "Projections of Snow Water Equivalent (SWE) Losses - SSP2-4.5\n"
     ]
    },
    {
     "name": "stdout",
     "output_type": "stream",
     "text": [
      "Projections of Snow Water Equivalent (SWE) Losses - SSP5-8.5\n"
     ]
    },
    {
     "name": "stdout",
     "output_type": "stream",
     "text": [
      "Projections of Snow Water Equivalent (SWE) - SSP2-4.5\n"
     ]
    },
    {
     "name": "stdout",
     "output_type": "stream",
     "text": [
      "Projections of Snow Water Equivalent (SWE) - SSP5-8.5\n"
     ]
    },
    {
     "name": "stdout",
     "output_type": "stream",
     "text": [
      "GEOGLAM Crop Monitor\n",
      "Black Marble High Definition Nightlights Monthly Dataset\n"
     ]
    },
    {
     "name": "stdout",
     "output_type": "stream",
     "text": [
      "GRDI VNL Constituent Raster\n",
      "Social Vulnerability Index (Housing) (Masked)\n"
     ]
    },
    {
     "name": "stdout",
     "output_type": "stream",
     "text": [
      "Social Vulnerability Index (Household) (Masked)\n",
      "Social Vulnerability Index (SocioEconomic)\n"
     ]
    },
    {
     "name": "stdout",
     "output_type": "stream",
     "text": [
      "Social Vulnerability Index (SocioEconomic) (Masked)\n",
      "GRDI Filled Missing Values Count\n"
     ]
    },
    {
     "name": "stdout",
     "output_type": "stream",
     "text": [
      "OMI_trno2 - 0.10 x 0.10 Annual as Cloud-Optimized GeoTIFFs (COGs)\n",
      "Social Vulnerability Index (Overall)\n"
     ]
    },
    {
     "name": "stdout",
     "output_type": "stream",
     "text": [
      "Social Vulnerability Index (Minority) (Masked)\n",
      "GRDI CDR Constituent Raster\n"
     ]
    },
    {
     "name": "stdout",
     "output_type": "stream",
     "text": [
      "\n",
      "Social Vulnerability Index (Overall) (Masked)\n"
     ]
    },
    {
     "name": "stdout",
     "output_type": "stream",
     "text": [
      "GRDI V1 raster\n",
      "GRDI SHDI Constituent Raster\n"
     ]
    },
    {
     "name": "stdout",
     "output_type": "stream",
     "text": [
      "Hurricane Ida - Blue Tarps PlanetScope Image\n",
      "Black Marble High Definition Nightlights 1 band Dataset\n"
     ]
    },
    {
     "name": "stdout",
     "output_type": "stream",
     "text": [
      "Social Vulnerability Index (Minority)\n",
      "OMI/Aura Sulfur Dioxide (SO2) Total Column L3 1 day Best Pixel in 0.25 degree x 0.25 degree V3 as Cloud-Optimized GeoTIFFs (COGs)\n"
     ]
    },
    {
     "name": "stdout",
     "output_type": "stream",
     "text": [
      "Gridded 2012 EPA Methane Emissions - Underground Coal Mines\n",
      "HLSS30.002 Environmental Justice Events\n"
     ]
    },
    {
     "name": "stdout",
     "output_type": "stream",
     "text": [
      "GRDI BUILT Constituent Raster\n",
      "GRDI VNL Slope Constituent Raster\n"
     ]
    },
    {
     "name": "stdout",
     "output_type": "stream",
     "text": [
      "Population Density Maps using satellite imagery built by Meta\n",
      "Gridded 2012 EPA Methane Emissions - Abandoned Coal Mines\n"
     ]
    },
    {
     "name": "stdout",
     "output_type": "stream",
     "text": [
      "Gridded 2012 EPA Methane Emissions - Manure Management\n",
      "Gridded 2012 EPA Methane Emissions - Stationary Combustion\n"
     ]
    },
    {
     "name": "stdout",
     "output_type": "stream",
     "text": [
      "Gridded 2012 EPA Methane Emissions - Natural Gas Production\n",
      "Gridded 2012 EPA Methane Emissions - Industrial Landfills\n"
     ]
    },
    {
     "name": "stdout",
     "output_type": "stream",
     "text": [
      "Gridded 2012 EPA Methane Emissions - Ferroalloy Production\n",
      "Gridded 2012 EPA Methane Emissions - Enteric Fermentation\n"
     ]
    },
    {
     "name": "stdout",
     "output_type": "stream",
     "text": [
      "Gridded 2012 EPA Methane Emissions - Municipal Landfills\n",
      "Gridded 2012 EPA Methane Emissions - Natural Gas Transmission\n"
     ]
    },
    {
     "name": "stdout",
     "output_type": "stream",
     "text": [
      "Gridded 2012 EPA Methane Emissions - Forest Fires\n",
      "Gridded 2012 EPA Methane Emissions - Natural Gas Distribution\n"
     ]
    },
    {
     "name": "stdout",
     "output_type": "stream",
     "text": [
      "Gridded 2012 EPA Methane Emissions - Rice Cultivation\n",
      "Gridded 2012 EPA Methane Emissions - Forest Fires (daily)\n"
     ]
    },
    {
     "name": "stdout",
     "output_type": "stream",
     "text": [
      "Gridded 2012 EPA Methane Emissions - Stationary Combustion (monthly)\n",
      "Gridded 2012 EPA Methane Emissions - Field Burning (monthly)\n"
     ]
    },
    {
     "name": "stdout",
     "output_type": "stream",
     "text": [
      "Gridded 2012 EPA Methane Emissions - Manure Management (monthly)\n"
     ]
    },
    {
     "name": "stdout",
     "output_type": "stream",
     "text": [
      "Gridded 2012 EPA Methane Emissions - Petroleum (monthly)\n",
      "Hurricane Ida - Detected Blue Tarps\n"
     ]
    },
    {
     "name": "stdout",
     "output_type": "stream",
     "text": [
      "Gridded 2012 EPA Methane Emissions - Rice Cultivation (monthly)\n",
      "CO₂ (Diff)\n"
     ]
    }
   ],
   "source": [
    "for root, subcatalogs, items in client.walk():\n",
    "    # sub catalogs represents any catalogs or collections owned by root\n",
    "    for cat in subcatalogs:\n",
    "        print(cat.title)"
   ]
  }
 ],
 "metadata": {
  "kernelspec": {
   "display_name": "Python 3 (ipykernel)",
   "language": "python",
   "name": "python3"
  },
  "language_info": {
   "codemirror_mode": {
    "name": "ipython",
    "version": 3
   },
   "file_extension": ".py",
   "mimetype": "text/x-python",
   "name": "python",
   "nbconvert_exporter": "python",
   "pygments_lexer": "ipython3",
   "version": "3.9.7"
  },
  "vscode": {
   "interpreter": {
    "hash": "1a1af0ee75eeea9e2e1ee996c87e7a2b11a0bebd85af04bb136d915cefc0abce"
   }
  }
 },
 "nbformat": 4,
 "nbformat_minor": 5
}
