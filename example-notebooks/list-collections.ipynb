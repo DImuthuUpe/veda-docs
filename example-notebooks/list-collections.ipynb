{
 "cells": [
  {
   "attachments": {},
   "cell_type": "markdown",
   "id": "258bea80",
   "metadata": {
    "tags": [
     "hide-input"
    ]
   },
   "source": [
    "---\n",
    "title: List all collections\n",
    "author: Aimee Barciauskas\n",
    "date: December 26, 2022\n",
    "---"
   ]
  },
  {
   "attachments": {},
   "cell_type": "markdown",
   "id": "5cc0f85c",
   "metadata": {},
   "source": [
    "[![Binder](https://mybinder.org/badge_logo.svg)](https://mybinder.org/v2/gh/NASA-IMPACT/veda-docs/HEAD?labpath=example-notebooks%2Flist-collections.ipynb)"
   ]
  },
  {
   "cell_type": "code",
   "execution_count": 1,
   "id": "20e1239f",
   "metadata": {},
   "outputs": [],
   "source": [
    "from pystac_client import Client"
   ]
  },
  {
   "cell_type": "code",
   "execution_count": 2,
   "id": "bea9d27f",
   "metadata": {},
   "outputs": [],
   "source": [
    "STAC_API_URL = 'https://staging-stac.delta-backend.com/'\n",
    "client = Client.open(STAC_API_URL)"
   ]
  },
  {
   "cell_type": "code",
   "execution_count": 3,
   "id": "01377d27",
   "metadata": {},
   "outputs": [
    {
     "name": "stdout",
     "output_type": "stream",
     "text": [
      "Gridded 2012 EPA Methane Emissions - Composting\n",
      "Black Marble 500m Nightlights Daily Dataset\n"
     ]
    },
    {
     "name": "stdout",
     "output_type": "stream",
     "text": [
      "ICESat-2 L4 Monthly Gridded Sea Ice Thickness (COGs)\n",
      "Social Vulnerability Index (Household)\n"
     ]
    },
    {
     "name": "stdout",
     "output_type": "stream",
     "text": [
      "NO₂\n",
      "NO₂ (Diff)\n"
     ]
    },
    {
     "name": "stdout",
     "output_type": "stream",
     "text": [
      "MTBS Burn Severity\n",
      "ECCO sea-surface height change from 1992 to 2017\n"
     ]
    },
    {
     "name": "stdout",
     "output_type": "stream",
     "text": [
      "Trend in Terrestrial Water Storage (TWS) Anomalies\n",
      "Social Vulnerability Index (Housing)\n"
     ]
    },
    {
     "name": "stdout",
     "output_type": "stream",
     "text": [
      "GRDI IMR Constituent Raster\n",
      "Annual land cover maps for 2001 and 2020\n"
     ]
    },
    {
     "name": "stdout",
     "output_type": "stream",
     "text": [
      "NCEO Africa Aboveground Woody Biomass 2017\n",
      "HLSL30.002 Environmental Justice Events\n"
     ]
    },
    {
     "name": "stdout",
     "output_type": "stream",
     "text": [
      "Gridded 2012 EPA Methane Emissions - Natural Gas Processing\n",
      "Gridded 2012 EPA Methane Emissions - Domestic Wastewater Treatment\n"
     ]
    },
    {
     "name": "stdout",
     "output_type": "stream",
     "text": [
      "Gridded 2012 EPA Methane Emissions - Forest Fires\n",
      "Gridded 2012 EPA Methane Emissions - Industrial Wastewater Treatment\n"
     ]
    },
    {
     "name": "stdout",
     "output_type": "stream",
     "text": [
      "Gridded 2012 EPA Methane Emissions - Petroleum\n",
      "Gridded 2012 EPA Methane Emissions - Surface Coal Mines\n"
     ]
    },
    {
     "name": "stdout",
     "output_type": "stream",
     "text": [
      "Gridded 2012 EPA Methane Emissions - Mobile Combustion\n",
      "Gridded 2012 EPA Methane Emissions - Field Burning\n"
     ]
    },
    {
     "name": "stdout",
     "output_type": "stream",
     "text": [
      "Terrestrial Water Storage (TWS) Anomalies\n",
      "Gridded 2012 EPA Methane Emissions - Petrochemical Production\n"
     ]
    },
    {
     "name": "stdout",
     "output_type": "stream",
     "text": [
      "Caldor Fire Behavior\n",
      "Caldor Fire Burn Severity\n"
     ]
    },
    {
     "name": "stdout",
     "output_type": "stream",
     "text": [
      "Gridded 2012 EPA Methane Emissions - Natural Gas Production (monthly)\n",
      "CO₂ (Avg)\n"
     ]
    },
    {
     "name": "stdout",
     "output_type": "stream",
     "text": [
      "Global TWS Non-Stationarity Index\n",
      "Annual LAI maps for 2003 and 2021 (Bangladesh)\n"
     ]
    },
    {
     "name": "stdout",
     "output_type": "stream",
     "text": [
      "Projections of Snow Water Equivalent (SWE)\n",
      "Projections of Snow Water Equivalent (SWE) losses\n"
     ]
    },
    {
     "name": "stdout",
     "output_type": "stream",
     "text": [
      "Projections of Snow Water Equivalent (SWE) Losses - SSP2-4.5\n",
      "Projections of Snow Water Equivalent (SWE) Losses - SSP5-8.5\n"
     ]
    },
    {
     "name": "stdout",
     "output_type": "stream",
     "text": [
      "Projections of Snow Water Equivalent (SWE) - SSP2-4.5\n",
      "Projections of Snow Water Equivalent (SWE) - SSP5-8.5\n"
     ]
    },
    {
     "name": "stdout",
     "output_type": "stream",
     "text": [
      "GEOGLAM Crop Monitor\n",
      "Black Marble High Definition Nightlights Monthly Dataset\n"
     ]
    },
    {
     "name": "stdout",
     "output_type": "stream",
     "text": [
      "GRDI VNL Constituent Raster\n"
     ]
    },
    {
     "name": "stdout",
     "output_type": "stream",
     "text": [
      "Social Vulnerability Index (Housing) (Masked)\n",
      "Social Vulnerability Index (Household) (Masked)\n"
     ]
    },
    {
     "name": "stdout",
     "output_type": "stream",
     "text": [
      "Social Vulnerability Index (SocioEconomic)\n",
      "Social Vulnerability Index (SocioEconomic) (Masked)\n"
     ]
    },
    {
     "name": "stdout",
     "output_type": "stream",
     "text": [
      "GRDI Filled Missing Values Count\n",
      "OMI_trno2 - 0.10 x 0.10 Annual as Cloud-Optimized GeoTIFFs (COGs)\n"
     ]
    },
    {
     "name": "stdout",
     "output_type": "stream",
     "text": [
      "Social Vulnerability Index (Overall)\n",
      "Social Vulnerability Index (Minority) (Masked)\n"
     ]
    },
    {
     "name": "stdout",
     "output_type": "stream",
     "text": [
      "GRDI CDR Constituent Raster\n",
      "\n"
     ]
    },
    {
     "name": "stdout",
     "output_type": "stream",
     "text": [
      "Social Vulnerability Index (Overall) (Masked)\n",
      "GRDI V1 raster\n"
     ]
    },
    {
     "name": "stdout",
     "output_type": "stream",
     "text": [
      "GRDI SHDI Constituent Raster\n",
      "Hurricane Ida - Blue Tarps PlanetScope Image\n"
     ]
    },
    {
     "name": "stdout",
     "output_type": "stream",
     "text": [
      "Black Marble High Definition Nightlights 1 band Dataset\n",
      "Social Vulnerability Index (Minority)\n"
     ]
    },
    {
     "name": "stdout",
     "output_type": "stream",
     "text": [
      "OMI/Aura Sulfur Dioxide (SO2) Total Column L3 1 day Best Pixel in 0.25 degree x 0.25 degree V3 as Cloud-Optimized GeoTIFFs (COGs)\n",
      "Gridded 2012 EPA Methane Emissions - Underground Coal Mines\n"
     ]
    },
    {
     "name": "stdout",
     "output_type": "stream",
     "text": [
      "HLSS30.002 Environmental Justice Events\n",
      "GRDI BUILT Constituent Raster\n"
     ]
    },
    {
     "name": "stdout",
     "output_type": "stream",
     "text": [
      "GRDI VNL Slope Constituent Raster\n",
      "Population Density Maps using satellite imagery built by Meta\n"
     ]
    },
    {
     "name": "stdout",
     "output_type": "stream",
     "text": [
      "Gridded 2012 EPA Methane Emissions - Abandoned Coal Mines\n",
      "Gridded 2012 EPA Methane Emissions - Manure Management\n"
     ]
    },
    {
     "name": "stdout",
     "output_type": "stream",
     "text": [
      "Gridded 2012 EPA Methane Emissions - Stationary Combustion\n",
      "Gridded 2012 EPA Methane Emissions - Natural Gas Production\n"
     ]
    },
    {
     "name": "stdout",
     "output_type": "stream",
     "text": [
      "Gridded 2012 EPA Methane Emissions - Industrial Landfills\n",
      "Gridded 2012 EPA Methane Emissions - Ferroalloy Production\n"
     ]
    },
    {
     "name": "stdout",
     "output_type": "stream",
     "text": [
      "Gridded 2012 EPA Methane Emissions - Enteric Fermentation\n",
      "Gridded 2012 EPA Methane Emissions - Municipal Landfills\n"
     ]
    },
    {
     "name": "stdout",
     "output_type": "stream",
     "text": [
      "Gridded 2012 EPA Methane Emissions - Natural Gas Transmission\n",
      "Gridded 2012 EPA Methane Emissions - Forest Fires\n"
     ]
    },
    {
     "name": "stdout",
     "output_type": "stream",
     "text": [
      "Gridded 2012 EPA Methane Emissions - Natural Gas Distribution\n",
      "Gridded 2012 EPA Methane Emissions - Rice Cultivation\n"
     ]
    },
    {
     "name": "stdout",
     "output_type": "stream",
     "text": [
      "Gridded 2012 EPA Methane Emissions - Forest Fires (daily)\n",
      "Gridded 2012 EPA Methane Emissions - Stationary Combustion (monthly)\n"
     ]
    },
    {
     "name": "stdout",
     "output_type": "stream",
     "text": [
      "Gridded 2012 EPA Methane Emissions - Field Burning (monthly)\n",
      "Gridded 2012 EPA Methane Emissions - Manure Management (monthly)\n"
     ]
    },
    {
     "name": "stdout",
     "output_type": "stream",
     "text": [
      "Gridded 2012 EPA Methane Emissions - Petroleum (monthly)\n",
      "Hurricane Ida - Detected Blue Tarps\n"
     ]
    },
    {
     "name": "stdout",
     "output_type": "stream",
     "text": [
      "Gridded 2012 EPA Methane Emissions - Rice Cultivation (monthly)\n",
      "CO₂ (Diff)\n"
     ]
    }
   ],
   "source": [
    "for root, subcatalogs, items in client.walk():\n",
    "    # sub catalogs represents any catalogs or collections owned by root\n",
    "    for cat in subcatalogs:\n",
    "        print(cat.title)"
   ]
  }
 ],
 "metadata": {
  "kernelspec": {
   "display_name": "Python 3 (ipykernel)",
   "language": "python",
   "name": "python3"
  },
  "language_info": {
   "codemirror_mode": {
    "name": "ipython",
    "version": 3
   },
   "file_extension": ".py",
   "mimetype": "text/x-python",
   "name": "python",
   "nbconvert_exporter": "python",
   "pygments_lexer": "ipython3",
   "version": "3.9.7"
  },
  "vscode": {
   "interpreter": {
    "hash": "1a1af0ee75eeea9e2e1ee996c87e7a2b11a0bebd85af04bb136d915cefc0abce"
   }
  }
 },
 "nbformat": 4,
 "nbformat_minor": 5
}
