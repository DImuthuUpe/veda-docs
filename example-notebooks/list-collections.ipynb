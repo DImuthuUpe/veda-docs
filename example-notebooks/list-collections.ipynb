{
 "cells": [
  {
   "cell_type": "raw",
   "metadata": {},
   "source": [
    "---\n",
    "title: List all collections\n",
    "author: Aimee Barciauskas\n",
    "date: 'December 26, 2022'\n",
    "execute:\n",
    "  cache: true\n",
    "  freeze: true\n",
    "---"
   ]
  },
  {
   "cell_type": "markdown",
   "metadata": {},
   "source": [
    "\n",
    "<a href=\"https://mybinder.org/v2/gh/NASA-IMPACT/veda-docs/HEAD?labpath=example-notebooks%2Flist-collections.ipynb\">\n",
    "<img src=\"https://mybinder.org/badge_logo.svg\" alt=\"Binder\" title=\"A cute binder\" width=\"150\" height=\"100\" style=\"float:left\" /> \n",
    "</a>\n"
   ]
  },
  {
   "cell_type": "code",
   "execution_count": 1,
   "metadata": {},
   "outputs": [],
   "source": [
    "from pystac_client import Client"
   ]
  },
  {
   "cell_type": "code",
   "execution_count": 2,
   "metadata": {},
   "outputs": [],
   "source": [
    "STAC_API_URL = 'https://staging-stac.delta-backend.com/'\n",
    "client = Client.open(STAC_API_URL)"
   ]
  },
  {
   "cell_type": "code",
   "execution_count": 3,
   "metadata": {},
   "outputs": [
    {
     "name": "stdout",
     "output_type": "stream",
     "text": [
      "Gridded 2012 EPA Methane Emissions - Composting\n",
      "Black Marble 500m Nightlights Daily Dataset\n",
      "ICESat-2 L4 Monthly Gridded Sea Ice Thickness (COGs)\n",
      "Social Vulnerability Index (Household)\n",
      "NO₂\n",
      "NO₂ (Diff)\n",
      "MTBS Burn Severity\n",
      "ECCO sea-surface height change from 1992 to 2017\n",
      "Trend in Terrestrial Water Storage (TWS) Anomalies\n",
      "Social Vulnerability Index (Housing)\n",
      "GRDI IMR Constituent Raster\n",
      "Annual land cover maps for 2001 and 2020\n",
      "NCEO Africa Aboveground Woody Biomass 2017\n",
      "HLSL30.002 Environmental Justice Events\n",
      "Gridded 2012 EPA Methane Emissions - Natural Gas Processing\n",
      "Gridded 2012 EPA Methane Emissions - Domestic Wastewater Treatment\n",
      "Gridded 2012 EPA Methane Emissions - Forest Fires\n",
      "Gridded 2012 EPA Methane Emissions - Industrial Wastewater Treatment\n",
      "Gridded 2012 EPA Methane Emissions - Petroleum\n",
      "Gridded 2012 EPA Methane Emissions - Surface Coal Mines\n",
      "Gridded 2012 EPA Methane Emissions - Mobile Combustion\n",
      "Gridded 2012 EPA Methane Emissions - Field Burning\n",
      "Terrestrial Water Storage (TWS) Anomalies\n",
      "Gridded 2012 EPA Methane Emissions - Petrochemical Production\n",
      "Caldor Fire Behavior\n",
      "Caldor Fire Burn Severity\n",
      "Gridded 2012 EPA Methane Emissions - Natural Gas Production (monthly)\n",
      "CO₂ (Avg)\n",
      "Global TWS Non-Stationarity Index\n",
      "Annual LAI maps for 2003 and 2021 (Bangladesh)\n",
      "Projections of Snow Water Equivalent (SWE)\n",
      "Projections of Snow Water Equivalent (SWE) losses\n",
      "Projections of Snow Water Equivalent (SWE) Losses - SSP2-4.5\n",
      "Projections of Snow Water Equivalent (SWE) Losses - SSP5-8.5\n",
      "Projections of Snow Water Equivalent (SWE) - SSP2-4.5\n",
      "Projections of Snow Water Equivalent (SWE) - SSP5-8.5\n",
      "GEOGLAM Crop Monitor\n",
      "Black Marble High Definition Nightlights Monthly Dataset\n",
      "GRDI VNL Constituent Raster\n",
      "Social Vulnerability Index (Housing) (Masked)\n",
      "Social Vulnerability Index (Household) (Masked)\n",
      "Social Vulnerability Index (SocioEconomic)\n",
      "Social Vulnerability Index (SocioEconomic) (Masked)\n",
      "GRDI Filled Missing Values Count\n",
      "OMI_trno2 - 0.10 x 0.10 Annual as Cloud-Optimized GeoTIFFs (COGs)\n",
      "Social Vulnerability Index (Overall)\n",
      "Social Vulnerability Index (Minority) (Masked)\n",
      "GRDI CDR Constituent Raster\n",
      "\n",
      "Social Vulnerability Index (Overall) (Masked)\n",
      "GRDI V1 raster\n",
      "GRDI SHDI Constituent Raster\n",
      "Hurricane Ida - Blue Tarps PlanetScope Image\n",
      "Black Marble High Definition Nightlights 1 band Dataset\n",
      "Social Vulnerability Index (Minority)\n",
      "OMI/Aura Sulfur Dioxide (SO2) Total Column L3 1 day Best Pixel in 0.25 degree x 0.25 degree V3 as Cloud-Optimized GeoTIFFs (COGs)\n",
      "Gridded 2012 EPA Methane Emissions - Underground Coal Mines\n",
      "HLSS30.002 Environmental Justice Events\n",
      "GRDI BUILT Constituent Raster\n",
      "GRDI VNL Slope Constituent Raster\n",
      "Population Density Maps using satellite imagery built by Meta\n",
      "Gridded 2012 EPA Methane Emissions - Abandoned Coal Mines\n",
      "Gridded 2012 EPA Methane Emissions - Manure Management\n",
      "Gridded 2012 EPA Methane Emissions - Stationary Combustion\n",
      "Gridded 2012 EPA Methane Emissions - Natural Gas Production\n",
      "Gridded 2012 EPA Methane Emissions - Industrial Landfills\n",
      "Gridded 2012 EPA Methane Emissions - Ferroalloy Production\n",
      "Gridded 2012 EPA Methane Emissions - Enteric Fermentation\n",
      "Gridded 2012 EPA Methane Emissions - Municipal Landfills\n",
      "Gridded 2012 EPA Methane Emissions - Natural Gas Transmission\n",
      "Gridded 2012 EPA Methane Emissions - Forest Fires\n",
      "Gridded 2012 EPA Methane Emissions - Natural Gas Distribution\n",
      "Gridded 2012 EPA Methane Emissions - Rice Cultivation\n",
      "Gridded 2012 EPA Methane Emissions - Forest Fires (daily)\n",
      "Gridded 2012 EPA Methane Emissions - Stationary Combustion (monthly)\n",
      "Gridded 2012 EPA Methane Emissions - Field Burning (monthly)\n",
      "Gridded 2012 EPA Methane Emissions - Manure Management (monthly)\n",
      "Gridded 2012 EPA Methane Emissions - Petroleum (monthly)\n",
      "Hurricane Ida - Detected Blue Tarps\n",
      "Gridded 2012 EPA Methane Emissions - Rice Cultivation (monthly)\n",
      "CO₂ (Diff)\n"
     ]
    }
   ],
   "source": [
    "for root, collections, items in client.walk():\n",
    "    for collection in collections:\n",
    "        print(collection.title)"
   ]
  }
 ],
 "metadata": {
  "kernelspec": {
   "display_name": "_env",
   "language": "python",
   "name": "_env"
  },
  "language_info": {
   "codemirror_mode": {
    "name": "ipython",
    "version": 3
   },
   "file_extension": ".py",
   "mimetype": "text/x-python",
   "name": "python",
   "nbconvert_exporter": "python",
   "pygments_lexer": "ipython3",
   "version": "3.10.8"
  }
 },
 "nbformat": 4,
 "nbformat_minor": 4
}
